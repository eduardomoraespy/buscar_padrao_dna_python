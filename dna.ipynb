{
  "nbformat": 4,
  "nbformat_minor": 0,
  "metadata": {
    "colab": {
      "name": "dna.ipynb",
      "provenance": [],
      "authorship_tag": "ABX9TyPbpBEsgv/8MkfldSy2klBB"
    },
    "kernelspec": {
      "name": "python3",
      "display_name": "Python 3"
    },
    "language_info": {
      "name": "python"
    }
  },
  "cells": [
    {
      "cell_type": "markdown",
      "metadata": {
        "id": "BGwBkxQQkOMS"
      },
      "source": [
        "# Buscar padrão de DNA"
      ]
    },
    {
      "cell_type": "markdown",
      "metadata": {
        "id": "M03w_RvNkWzj"
      },
      "source": [
        "- Padrão: TACGTGCT\n",
        "\n",
        "- gene1: ATCTACGTGCTGGTAATGAAACTCCACGCACCCAAAGACACG\n",
        "\n",
        "- gene2: CTCGATATTGCAATTCGTGCTCTCCAAACCTCAAA\n",
        "\n",
        "- gene3: AGAGAAACGTGATACCCAAGATGTAACTCGAC\n",
        "\n",
        "- gene4: ACCCGTTATGCAACTCTTTCACGTACACAGAGGGGAA"
      ]
    },
    {
      "cell_type": "code",
      "metadata": {
        "id": "3V99Ge7tmTer"
      },
      "source": [
        "# Definindo objetos\n",
        "\n",
        "padrao = 'TACGTGCT'\n",
        "\n",
        "gene1 = 'ATCTACGTGCTGGTAATGAAACTCCACGCACCCAAAGACACG'\n",
        "\n",
        "gene2 = 'CTCGATATTGCAATTCGTGCTCTCCAAACCTCAAA'\n",
        "\n",
        "gene3 = 'AGAGAAACGTGATACCCAAGATGTAACTCGAC'\n",
        "\n",
        "gene4 = 'ACCCGTTATGCAACTCTTTCACGTACACAGAGGGGAA'"
      ],
      "execution_count": 1,
      "outputs": []
    },
    {
      "cell_type": "code",
      "metadata": {
        "id": "voYisr-FjrjE"
      },
      "source": [
        ""
      ],
      "execution_count": null,
      "outputs": []
    },
    {
      "cell_type": "markdown",
      "metadata": {
        "id": "fC2dOR4hm_hH"
      },
      "source": [
        "## Criação de janela de leitura para percorrer cada letra de acordo com o tamanho do objeto padrão e ainda estabelecer uma quantidade ma´xima de diferenças entre a janela de leitura e o objeto padrao"
      ]
    },
    {
      "cell_type": "code",
      "metadata": {
        "id": "SYqdlYQcnGmw"
      },
      "source": [
        "# objeto lista para salvar genes\n",
        "\n",
        "genes = [gene1, gene2, gene3, gene4]\n",
        "\n",
        "#genes"
      ],
      "execution_count": 4,
      "outputs": []
    },
    {
      "cell_type": "code",
      "metadata": {
        "id": "K2vUUAQuoARQ"
      },
      "source": [
        "# Função para retornar a difereça de janelas comparando com o objeto padrao\n",
        "\n",
        "def diferenca_genes(janela, padrao):\n",
        "\n",
        "  \"\"\"\"\n",
        "    args:\n",
        "      janela - \n",
        "\n",
        "      padrao - \n",
        "\n",
        "    return:\n",
        "\n",
        "  \"\"\"\n",
        "\n",
        "  # definindo uma constante para ponto de partida\n",
        "  diferenca = 0\n",
        "\n",
        "  # percorrer base da janela de leitura e comparar com a base do padrao, cado for diferente e adicionado +1 em diferenca\n",
        "  for base1, base2 in zip(janela, padrao):\n",
        "    if base1 != base2:\n",
        "      diferenca+=1\n",
        "\n",
        "  return diferenca\n",
        "\n"
      ],
      "execution_count": 5,
      "outputs": []
    },
    {
      "cell_type": "code",
      "metadata": {
        "id": "6wzxJQZ9rbHl"
      },
      "source": [
        "def preocura_padrao(genes, padrao, d):\n",
        "\n",
        "  \"\"\"\n",
        "    args:\n",
        "      genes - lista de genes\n",
        "\n",
        "      padrao - padrao do gene que se busca\n",
        "\n",
        "      d - numero máximo de diferençasentre a janela e entre o padrao\n",
        "\n",
        "    return:\n",
        "      s\n",
        "  \"\"\"\n",
        "\n",
        "  # Descobrindo tamnho do objeto padrao\n",
        "  tamanho_padrao = len(padrao)\n",
        "\n",
        "  # objeto para saber em qual gene esta percorrendo\n",
        "  gene_id = 0\n",
        "\n",
        "\n",
        "  # percorrer o gene da lista\n",
        "  for gene in genes:\n",
        "    gene_id+=1\n",
        "    \n",
        "    tamanho_gene = len(gene)\n",
        "\n",
        "    # janela de leitura\n",
        "    for pos in range(tamanho_gene - tamanho_padrao+1):\n",
        "      janela = gene[pos:pos+tamanho_padrao]\n",
        "\n",
        "      # contar as difereças\n",
        "      diferenca = diferenca_genes(janela, padrao)\n",
        "\n",
        "      if diferenca <= d:\n",
        "        print(f'Gene {gene_id} -------- {janela}')\n",
        "        print(f'Padrão ---------------- {padrao}')\n",
        "        print(f'Diferenças ------------ {diferenca}')\n",
        "        print(f'Localização do gene --- {pos} - {pos+tamanho_padrao}\\n\\n')\n",
        "\n",
        "\n",
        "\n",
        "\n"
      ],
      "execution_count": 8,
      "outputs": []
    },
    {
      "cell_type": "code",
      "metadata": {
        "colab": {
          "base_uri": "https://localhost:8080/"
        },
        "id": "xfTJZod1vo6K",
        "outputId": "4b723714-2c39-4fb5-cdbd-25d61f0417d3"
      },
      "source": [
        "preocura_padrao(genes, padrao, 3)"
      ],
      "execution_count": 11,
      "outputs": [
        {
          "output_type": "stream",
          "name": "stdout",
          "text": [
            "Gene 1 -------- TACGTGCT\n",
            "Padrão ---------------- TACGTGCT\n",
            "Diferenças ------------ 0\n",
            "Localização do gene --- 3 - 11\n",
            "\n",
            "\n",
            "Gene 2 -------- TTCGTGCT\n",
            "Padrão ---------------- TACGTGCT\n",
            "Diferenças ------------ 1\n",
            "Localização do gene --- 13 - 21\n",
            "\n",
            "\n",
            "Gene 3 -------- AACGTGAT\n",
            "Padrão ---------------- TACGTGCT\n",
            "Diferenças ------------ 2\n",
            "Localização do gene --- 5 - 13\n",
            "\n",
            "\n",
            "Gene 4 -------- CACGTACA\n",
            "Padrão ---------------- TACGTGCT\n",
            "Diferenças ------------ 3\n",
            "Localização do gene --- 19 - 27\n",
            "\n",
            "\n"
          ]
        }
      ]
    },
    {
      "cell_type": "markdown",
      "metadata": {
        "id": "8lGx5Yx0wUZm"
      },
      "source": [
        "No gene 1 a janela é igual ao padrao logo, a diferença é 0\n"
      ]
    },
    {
      "cell_type": "markdown",
      "metadata": {
        "id": "0JyRBgtXwjwB"
      },
      "source": [
        "No gene 2 a janela é diferente na posicao 1 ao padrao, logo a diferença é 1"
      ]
    },
    {
      "cell_type": "markdown",
      "metadata": {
        "id": "aBF7GmIswxeS"
      },
      "source": [
        "No gene 3 a janela é diferente na posicao 0 e 6 ao padrao, logo a diferença é 2"
      ]
    },
    {
      "cell_type": "markdown",
      "metadata": {
        "id": "8cVBjezXxYGh"
      },
      "source": [
        "No gene 4 a janela é diferente na posicao 0, 5 e 7 ao padrao, logo a diferença é 3"
      ]
    }
  ]
}